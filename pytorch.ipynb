{
  "nbformat": 4,
  "nbformat_minor": 0,
  "metadata": {
    "colab": {
      "name": "Untitled0.ipynb",
      "provenance": [],
      "authorship_tag": "ABX9TyMWeyNPTPTfufJ9HaWIBsTD",
      "include_colab_link": true
    },
    "kernelspec": {
      "name": "python3",
      "display_name": "Python 3"
    }
  },
  "cells": [
    {
      "cell_type": "markdown",
      "metadata": {
        "id": "view-in-github",
        "colab_type": "text"
      },
      "source": [
        "<a href=\"https://colab.research.google.com/github/SIYAAAA/DEEPA2/blob/master/pytorch.ipynb\" target=\"_parent\"><img src=\"https://colab.research.google.com/assets/colab-badge.svg\" alt=\"Open In Colab\"/></a>"
      ]
    },
    {
      "cell_type": "code",
      "metadata": {
        "id": "kgtmUpihMtM4",
        "colab_type": "code",
        "colab": {
          "base_uri": "https://localhost:8080/",
          "height": 319
        },
        "outputId": "224a737c-e460-4d5f-fa00-a3e0deb18343"
      },
      "source": [
        "!pip install torch==1.5.0+cpu torchvision==0.6.0+cpu -f https://download.pytorch.org/whl/torch_stable.html\n"
      ],
      "execution_count": 1,
      "outputs": [
        {
          "output_type": "stream",
          "text": [
            "Looking in links: https://download.pytorch.org/whl/torch_stable.html\n",
            "Collecting torch==1.5.0+cpu\n",
            "\u001b[?25l  Downloading https://download.pytorch.org/whl/cpu/torch-1.5.0%2Bcpu-cp36-cp36m-linux_x86_64.whl (127.3MB)\n",
            "\u001b[K     |████████████████████████████████| 127.3MB 52kB/s \n",
            "\u001b[?25hCollecting torchvision==0.6.0+cpu\n",
            "\u001b[?25l  Downloading https://download.pytorch.org/whl/cpu/torchvision-0.6.0%2Bcpu-cp36-cp36m-linux_x86_64.whl (5.7MB)\n",
            "\u001b[K     |████████████████████████████████| 5.7MB 51.2MB/s \n",
            "\u001b[?25hRequirement already satisfied: numpy in /usr/local/lib/python3.6/dist-packages (from torch==1.5.0+cpu) (1.18.4)\n",
            "Requirement already satisfied: future in /usr/local/lib/python3.6/dist-packages (from torch==1.5.0+cpu) (0.16.0)\n",
            "Requirement already satisfied: pillow>=4.1.1 in /usr/local/lib/python3.6/dist-packages (from torchvision==0.6.0+cpu) (7.0.0)\n",
            "Installing collected packages: torch, torchvision\n",
            "  Found existing installation: torch 1.5.0+cu101\n",
            "    Uninstalling torch-1.5.0+cu101:\n",
            "      Successfully uninstalled torch-1.5.0+cu101\n",
            "  Found existing installation: torchvision 0.6.0+cu101\n",
            "    Uninstalling torchvision-0.6.0+cu101:\n",
            "      Successfully uninstalled torchvision-0.6.0+cu101\n",
            "Successfully installed torch-1.5.0+cpu torchvision-0.6.0+cpu\n"
          ],
          "name": "stdout"
        }
      ]
    },
    {
      "cell_type": "code",
      "metadata": {
        "id": "F6SaqMV5NIbW",
        "colab_type": "code",
        "colab": {}
      },
      "source": [
        "import torch"
      ],
      "execution_count": 0,
      "outputs": []
    },
    {
      "cell_type": "code",
      "metadata": {
        "id": "ULI2cgo_NYjy",
        "colab_type": "code",
        "colab": {
          "base_uri": "https://localhost:8080/",
          "height": 84
        },
        "outputId": "8f553edb-a7c8-4562-9ef0-a5fdc2bf1436"
      },
      "source": [
        "a = torch.zeros(4,3)\n",
        "print (a)"
      ],
      "execution_count": 5,
      "outputs": [
        {
          "output_type": "stream",
          "text": [
            "tensor([[0., 0., 0.],\n",
            "        [0., 0., 0.],\n",
            "        [0., 0., 0.],\n",
            "        [0., 0., 0.]])\n"
          ],
          "name": "stdout"
        }
      ]
    },
    {
      "cell_type": "code",
      "metadata": {
        "id": "bgDOPdE0NYwr",
        "colab_type": "code",
        "colab": {
          "base_uri": "https://localhost:8080/",
          "height": 34
        },
        "outputId": "cb84348d-df93-4704-ff99-aed09d5e66b7"
      },
      "source": [
        "a = torch.tensor([1,2,4.5])\n",
        "type(a)\n",
        "#converting list to tensor\n",
        "print(a)"
      ],
      "execution_count": 7,
      "outputs": [
        {
          "output_type": "stream",
          "text": [
            "tensor([1.0000, 2.0000, 4.5000])\n"
          ],
          "name": "stdout"
        }
      ]
    },
    {
      "cell_type": "code",
      "metadata": {
        "id": "ng_CtjXTNYyo",
        "colab_type": "code",
        "colab": {
          "base_uri": "https://localhost:8080/",
          "height": 34
        },
        "outputId": "057b5872-0c20-4a6f-8ac0-24afe8587496"
      },
      "source": [
        "a = torch.zeros(4,3)\n",
        "a.new_ones(6,5, dtype=torch.double)\n",
        "print(a.new)"
      ],
      "execution_count": 9,
      "outputs": [
        {
          "output_type": "stream",
          "text": [
            "<built-in method new of Tensor object at 0x7f420c179288>\n"
          ],
          "name": "stdout"
        }
      ]
    },
    {
      "cell_type": "code",
      "metadata": {
        "id": "dzYCrgjQNY20",
        "colab_type": "code",
        "colab": {
          "base_uri": "https://localhost:8080/",
          "height": 84
        },
        "outputId": "5365d872-6285-4b0e-cbc3-200021eb8bbc"
      },
      "source": [
        "b=torch.rand(4,3)\n",
        "b"
      ],
      "execution_count": 11,
      "outputs": [
        {
          "output_type": "execute_result",
          "data": {
            "text/plain": [
              "tensor([[0.3107, 0.3626, 0.2206],\n",
              "        [0.6494, 0.6384, 0.7835],\n",
              "        [0.2917, 0.1905, 0.1235],\n",
              "        [0.5596, 0.2596, 0.9444]])"
            ]
          },
          "metadata": {
            "tags": []
          },
          "execution_count": 11
        }
      ]
    },
    {
      "cell_type": "code",
      "metadata": {
        "id": "sDW4_exGO6Uf",
        "colab_type": "code",
        "colab": {
          "base_uri": "https://localhost:8080/",
          "height": 84
        },
        "outputId": "a00645c2-34e0-498b-e3a6-eae28f6adfed"
      },
      "source": [
        "a+b\n"
      ],
      "execution_count": 12,
      "outputs": [
        {
          "output_type": "execute_result",
          "data": {
            "text/plain": [
              "tensor([[0.3107, 0.3626, 0.2206],\n",
              "        [0.6494, 0.6384, 0.7835],\n",
              "        [0.2917, 0.1905, 0.1235],\n",
              "        [0.5596, 0.2596, 0.9444]])"
            ]
          },
          "metadata": {
            "tags": []
          },
          "execution_count": 12
        }
      ]
    },
    {
      "cell_type": "code",
      "metadata": {
        "id": "jQqVl54zO-K7",
        "colab_type": "code",
        "colab": {
          "base_uri": "https://localhost:8080/",
          "height": 84
        },
        "outputId": "a87c05fd-4ea6-4c31-ef62-39a7d8c487e8"
      },
      "source": [
        "print(torch.add(a,b))"
      ],
      "execution_count": 13,
      "outputs": [
        {
          "output_type": "stream",
          "text": [
            "tensor([[0.3107, 0.3626, 0.2206],\n",
            "        [0.6494, 0.6384, 0.7835],\n",
            "        [0.2917, 0.1905, 0.1235],\n",
            "        [0.5596, 0.2596, 0.9444]])\n"
          ],
          "name": "stdout"
        }
      ]
    },
    {
      "cell_type": "code",
      "metadata": {
        "id": "QFt-umkSPEu5",
        "colab_type": "code",
        "colab": {}
      },
      "source": [
        "result = torch.empty(4,3) #empty gives random matrix"
      ],
      "execution_count": 0,
      "outputs": []
    },
    {
      "cell_type": "code",
      "metadata": {
        "id": "_Ms-rlTHPPN4",
        "colab_type": "code",
        "colab": {
          "base_uri": "https://localhost:8080/",
          "height": 84
        },
        "outputId": "ae39f1fc-78ff-4b5f-e6fd-407cac702afb"
      },
      "source": [
        "torch.add(a,b,out=result)"
      ],
      "execution_count": 17,
      "outputs": [
        {
          "output_type": "execute_result",
          "data": {
            "text/plain": [
              "tensor([[0.3107, 0.3626, 0.2206],\n",
              "        [0.6494, 0.6384, 0.7835],\n",
              "        [0.2917, 0.1905, 0.1235],\n",
              "        [0.5596, 0.2596, 0.9444]])"
            ]
          },
          "metadata": {
            "tags": []
          },
          "execution_count": 17
        }
      ]
    },
    {
      "cell_type": "code",
      "metadata": {
        "id": "VaR-1mrOPvzd",
        "colab_type": "code",
        "colab": {
          "base_uri": "https://localhost:8080/",
          "height": 84
        },
        "outputId": "dd2999da-5f1e-4a16-fab5-b1aa340c64a2"
      },
      "source": [
        "b=b+a\n",
        "b"
      ],
      "execution_count": 18,
      "outputs": [
        {
          "output_type": "execute_result",
          "data": {
            "text/plain": [
              "tensor([[0.3107, 0.3626, 0.2206],\n",
              "        [0.6494, 0.6384, 0.7835],\n",
              "        [0.2917, 0.1905, 0.1235],\n",
              "        [0.5596, 0.2596, 0.9444]])"
            ]
          },
          "metadata": {
            "tags": []
          },
          "execution_count": 18
        }
      ]
    },
    {
      "cell_type": "code",
      "metadata": {
        "id": "Ehe3Plq1P1uO",
        "colab_type": "code",
        "colab": {
          "base_uri": "https://localhost:8080/",
          "height": 84
        },
        "outputId": "95a5d862-a769-4b4d-b534-8cd05516bdca"
      },
      "source": [
        "b.add_(a)\n",
        "print(b)\n",
        "#reassignment operator"
      ],
      "execution_count": 19,
      "outputs": [
        {
          "output_type": "stream",
          "text": [
            "tensor([[0.3107, 0.3626, 0.2206],\n",
            "        [0.6494, 0.6384, 0.7835],\n",
            "        [0.2917, 0.1905, 0.1235],\n",
            "        [0.5596, 0.2596, 0.9444]])\n"
          ],
          "name": "stdout"
        }
      ]
    },
    {
      "cell_type": "code",
      "metadata": {
        "id": "PySVphH0QFYO",
        "colab_type": "code",
        "colab": {
          "base_uri": "https://localhost:8080/",
          "height": 34
        },
        "outputId": "24d319d7-379e-4af5-abec-b561c08c5901"
      },
      "source": [
        "a[0][1]"
      ],
      "execution_count": 20,
      "outputs": [
        {
          "output_type": "execute_result",
          "data": {
            "text/plain": [
              "tensor(0.)"
            ]
          },
          "metadata": {
            "tags": []
          },
          "execution_count": 20
        }
      ]
    },
    {
      "cell_type": "code",
      "metadata": {
        "id": "iOpPxEX0Qon9",
        "colab_type": "code",
        "colab": {
          "base_uri": "https://localhost:8080/",
          "height": 34
        },
        "outputId": "cad9c210-87e8-4b35-8399-f9b2e438cc3c"
      },
      "source": [
        "b[:,2]"
      ],
      "execution_count": 23,
      "outputs": [
        {
          "output_type": "execute_result",
          "data": {
            "text/plain": [
              "tensor([0.2206, 0.7835, 0.1235, 0.9444])"
            ]
          },
          "metadata": {
            "tags": []
          },
          "execution_count": 23
        }
      ]
    },
    {
      "cell_type": "code",
      "metadata": {
        "id": "XBCZ4dJcQosw",
        "colab_type": "code",
        "colab": {
          "base_uri": "https://localhost:8080/",
          "height": 50
        },
        "outputId": "a3bd6a35-612f-4018-b4f1-d922d498d709"
      },
      "source": [
        "a =torch.randn(3,3)\n",
        "a.view(9)"
      ],
      "execution_count": 26,
      "outputs": [
        {
          "output_type": "execute_result",
          "data": {
            "text/plain": [
              "tensor([ 1.1389,  1.0159,  0.2040, -0.9089,  0.7655, -0.5400, -1.6247,  0.3292,\n",
              "         1.3671])"
            ]
          },
          "metadata": {
            "tags": []
          },
          "execution_count": 26
        }
      ]
    },
    {
      "cell_type": "code",
      "metadata": {
        "id": "dcylUsK6QomP",
        "colab_type": "code",
        "colab": {
          "base_uri": "https://localhost:8080/",
          "height": 34
        },
        "outputId": "c34c734c-f947-4a3f-8dfe-edddd43516fc"
      },
      "source": [
        "x= torch.ones(4)#convert tensor to numpy array\n",
        "y=x.numpy()\n",
        "type(y)"
      ],
      "execution_count": 28,
      "outputs": [
        {
          "output_type": "execute_result",
          "data": {
            "text/plain": [
              "numpy.ndarray"
            ]
          },
          "metadata": {
            "tags": []
          },
          "execution_count": 28
        }
      ]
    },
    {
      "cell_type": "code",
      "metadata": {
        "id": "z1jFKFWtRpsu",
        "colab_type": "code",
        "colab": {}
      },
      "source": [
        "if torch.cuda.is_available():\n",
        "  device = torch.torch.device(\"cuda\")\n",
        "  y = torch.ones_like(x, device = device)\n",
        "  x= x.to(device)\n",
        "  print(z)\n",
        "#no cuda"
      ],
      "execution_count": 0,
      "outputs": []
    },
    {
      "cell_type": "code",
      "metadata": {
        "id": "Ku3hVsZBRpu8",
        "colab_type": "code",
        "colab": {}
      },
      "source": [
        "#autograd finds automatic derivatives,auto gradient"
      ],
      "execution_count": 0,
      "outputs": []
    },
    {
      "cell_type": "code",
      "metadata": {
        "id": "phbwLGpVRpzT",
        "colab_type": "code",
        "colab": {
          "base_uri": "https://localhost:8080/",
          "height": 50
        },
        "outputId": "551261d7-83de-434c-9aee-116b2dbd968a"
      },
      "source": [
        "a= torch.ones(2,2, requires_grad=True)\n",
        "print(a)#track computation"
      ],
      "execution_count": 31,
      "outputs": [
        {
          "output_type": "stream",
          "text": [
            "tensor([[1., 1.],\n",
            "        [1., 1.]], requires_grad=True)\n"
          ],
          "name": "stdout"
        }
      ]
    },
    {
      "cell_type": "code",
      "metadata": {
        "id": "Ehi6h1bfRp2t",
        "colab_type": "code",
        "colab": {
          "base_uri": "https://localhost:8080/",
          "height": 50
        },
        "outputId": "eb4a9e67-8d8b-44e8-dda9-422cd99edce1"
      },
      "source": [
        "b=a+2\n",
        "b#grad_fn becoz we mentioned gradient function"
      ],
      "execution_count": 32,
      "outputs": [
        {
          "output_type": "execute_result",
          "data": {
            "text/plain": [
              "tensor([[3., 3.],\n",
              "        [3., 3.]], grad_fn=<AddBackward0>)"
            ]
          },
          "metadata": {
            "tags": []
          },
          "execution_count": 32
        }
      ]
    },
    {
      "cell_type": "code",
      "metadata": {
        "id": "3FvHUghUTofn",
        "colab_type": "code",
        "colab": {
          "base_uri": "https://localhost:8080/",
          "height": 34
        },
        "outputId": "5deb84c6-da9a-4ae2-a7c0-5bf9b8275982"
      },
      "source": [
        "print(b.grad_fn)"
      ],
      "execution_count": 33,
      "outputs": [
        {
          "output_type": "stream",
          "text": [
            "<AddBackward0 object at 0x7f420c09a240>\n"
          ],
          "name": "stdout"
        }
      ]
    },
    {
      "cell_type": "code",
      "metadata": {
        "id": "ctGEpCPtTtkn",
        "colab_type": "code",
        "colab": {
          "base_uri": "https://localhost:8080/",
          "height": 34
        },
        "outputId": "0744cd17-ab49-494b-9904-ee4dcac9fcda"
      },
      "source": [
        "c = b*b*3\n",
        "out = c.mean()\n",
        "out"
      ],
      "execution_count": 36,
      "outputs": [
        {
          "output_type": "execute_result",
          "data": {
            "text/plain": [
              "tensor(27., grad_fn=<MeanBackward0>)"
            ]
          },
          "metadata": {
            "tags": []
          },
          "execution_count": 36
        }
      ]
    },
    {
      "cell_type": "code",
      "metadata": {
        "id": "EBCSENYXTtnX",
        "colab_type": "code",
        "colab": {}
      },
      "source": [
        "out.backward()#prints d(out)/dx"
      ],
      "execution_count": 0,
      "outputs": []
    },
    {
      "cell_type": "code",
      "metadata": {
        "id": "kV87I93hVMyv",
        "colab_type": "code",
        "colab": {
          "base_uri": "https://localhost:8080/",
          "height": 50
        },
        "outputId": "ca45ad7c-7182-4a31-f9a1-551b2e8e22cd"
      },
      "source": [
        "print(a.grad)"
      ],
      "execution_count": 38,
      "outputs": [
        {
          "output_type": "stream",
          "text": [
            "tensor([[4.5000, 4.5000],\n",
            "        [4.5000, 4.5000]])\n"
          ],
          "name": "stdout"
        }
      ]
    },
    {
      "cell_type": "code",
      "metadata": {
        "id": "-GHqJOnyTtrg",
        "colab_type": "code",
        "colab": {
          "base_uri": "https://localhost:8080/",
          "height": 50
        },
        "outputId": "75b1581e-e5c9-48d9-b458-5e98287e5f11"
      },
      "source": [
        "a"
      ],
      "execution_count": 39,
      "outputs": [
        {
          "output_type": "execute_result",
          "data": {
            "text/plain": [
              "tensor([[1., 1.],\n",
              "        [1., 1.]], requires_grad=True)"
            ]
          },
          "metadata": {
            "tags": []
          },
          "execution_count": 39
        }
      ]
    },
    {
      "cell_type": "code",
      "metadata": {
        "id": "KcT3MWHgTtuo",
        "colab_type": "code",
        "colab": {
          "base_uri": "https://localhost:8080/",
          "height": 134
        },
        "outputId": "0b261ed4-2c03-4545-e4d7-e47b194c111d"
      },
      "source": [
        "import torch\n",
        "import torch.nn as nn\n",
        "import torch.nn.functional as F\n",
        "class network(nn.Module):\n",
        "  def __init__(self):\n",
        "    super(network,self).__init__()\n",
        "    self.conv1 = nn.Conv2d(1,6,3)\n",
        "    self.conv2 = nn.Conv2d(6,16,3)# 6 features then 16 features applied\n",
        "    self.fc1 = nn.Linear(16*6*6,120)#input features is 16*6*6 and 120 output features\n",
        "    self.fc2 = nn.Linear(120,84)\n",
        "    self.fc3 = nn.Linear(84,10)\n",
        "\n",
        "def forward(self, x):\n",
        "  x=F.max_pool2d(F.relu(self.conv1(x)),(2,2))\n",
        "  x=F.max_pool2d(F.relu(self.conv2(x)),2)\n",
        "  x=x.view(-1,self.num_flat_features(x))#reshape and flatten matrix\n",
        "  x= F.relu(self.fc1(x))\n",
        "  x= F.relu(self.fc2(x))\n",
        "  x=self.fc3(x)\n",
        "  return x\n",
        "  #creating architecture using pytorch\n",
        "\n",
        "def num_flat_features(self,x):\n",
        "  size= x.size()[1:]\n",
        "  num_features = 1\n",
        "  for s in size:\n",
        "    num_features*=s\n",
        "  return num_features\n",
        "\n",
        "net = network()\n",
        "print(net)\n",
        "#loss and optimizer re not here so cannot backpropagate\n",
        "\n",
        "s=list(net.parameters())"
      ],
      "execution_count": 41,
      "outputs": [
        {
          "output_type": "stream",
          "text": [
            "network(\n",
            "  (conv1): Conv2d(1, 6, kernel_size=(3, 3), stride=(1, 1))\n",
            "  (conv2): Conv2d(6, 16, kernel_size=(3, 3), stride=(1, 1))\n",
            "  (fc1): Linear(in_features=576, out_features=120, bias=True)\n",
            "  (fc2): Linear(in_features=120, out_features=84, bias=True)\n",
            "  (fc3): Linear(in_features=84, out_features=10, bias=True)\n",
            ")\n"
          ],
          "name": "stdout"
        }
      ]
    },
    {
      "cell_type": "code",
      "metadata": {
        "id": "1hUjUaFmTt6_",
        "colab_type": "code",
        "colab": {}
      },
      "source": [
        ""
      ],
      "execution_count": 0,
      "outputs": []
    }
  ]
}